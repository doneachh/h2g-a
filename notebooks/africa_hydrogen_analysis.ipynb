{
 "cells": [
  {
   "cell_type": "markdown",
   "id": "aaed8a34",
   "metadata": {},
   "source": [
    "# Hydrogen Energy Comparative Analysis across African Countries\n",
    "\n",
    "This notebook supports a comparison of hydrogen‐sector metrics for multiple African countries. Each country’s results come from a solved PyPSA network (single‐country model) produced by the `solve_sector_networks` rule. Extracted metrics are both **static** and **time-series** in order to highlight differences in capacity, flows, performance, economics, cost, and export dynamics.\n",
    "\n",
    "\n",
    "* **Input Networks**\n",
    "\n",
    "  * Located in `../networks/solved_h2/` (relative to `h2g-a/notebooks/`)\n",
    "  * One `.nc` file per country, solved by `solve_sector_networks`\n",
    "  * Country code = last two letters of filename → mapped to full name via `pycountry`\n",
    "\n",
    "* **Workflow Overview**\n",
    "\n",
    "  1. **Load Networks**\n",
    "\n",
    "     * Discover `.nc` files\n",
    "     * Map 2-letter codes → country names\n",
    "     * Load into `pypsa.Network` objects\n",
    "  2. **Extract Metrics**\n",
    "\n",
    "     * **Core metrics**:\n",
    "\n",
    "       * Installed & Optimal Capacity\n",
    "       * Supply, Withdrawal, Balance, Transmission\n",
    "       * Capacity Factor & Curtailment\n",
    "       * CapEx, OpEx, Revenue, Market Value\n",
    "     * **Cost metrics**:\n",
    "\n",
    "       * LCOH (€/MWh)\n",
    "       * Total cost per TWh (M€/TWh)\n",
    "  3. **Build Combined Dictionary**\n",
    "\n",
    "     * Merge core + cost metrics per country\n",
    "  4. **Static Comparisons**\n",
    "\n",
    "     * Group factors into:\n",
    "\n",
    "       * Capacity (GW)\n",
    "       * Flows (GWh)\n",
    "       * Performance (%)\n",
    "       * Economics (€)\n",
    "       * Cost Metrics\n",
    "     * Plot each group as a grouped‐bar chart\n",
    "  5. **Time‐Series Comparisons**\n",
    "\n",
    "     * Hourly H₂ export price (€/MWh)\n",
    "     * Hourly export quantity (MWh)\n",
    "     * Hourly export revenue (€)\n",
    "\n",
    "* **How to Interpret**\n",
    "\n",
    "  * **Capacity plots** show \"Installed Capacity\" and \"Optimal Capacity\"\n",
    "  * **Flows** shows \"Supply\", \"Withdrawal\", \"Energy Balance\", and \"Transmission\"\n",
    "  * **Performance** show \"Capacity Factor\" and \"Curtailment\"\n",
    "  * **Economic metrics** show \"Capital Expenditure\", \"Operational Expenditure\", \"Revenue\", and \"Market Value\"\n",
    "  * **Cost metrics** benchmark \"LCOH (€/MWh)\" and \"Cost (M€/TWh)\"\n",
    "  * **Time‐series** benchmark temporal patterns in export markets\n"
   ]
  },
  {
   "cell_type": "markdown",
   "id": "61c229ab",
   "metadata": {},
   "source": [
    "### Packages import"
   ]
  },
  {
   "cell_type": "code",
   "execution_count": null,
   "id": "bcfd48c1",
   "metadata": {},
   "outputs": [],
   "source": [
    "from pathlib import Path\n",
    "import re\n",
    "import pypsa\n",
    "import pycountry\n",
    "import warnings\n",
    "import matplotlib.pyplot as plt"
   ]
  },
  {
   "cell_type": "markdown",
   "id": "0f06a7fa",
   "metadata": {},
   "source": [
    "### Networks loading\n"
   ]
  },
  {
   "cell_type": "code",
   "execution_count": null,
   "id": "360a3d89",
   "metadata": {},
   "outputs": [],
   "source": [
    "nc_dir = Path.cwd().parents[0] / \"networks\" / \"solved_h2\"\n",
    "nc_paths = list(nc_dir.glob(\"*.nc\"))\n",
    "\n",
    "def code_to_country(code):\n",
    "    c = pycountry.countries.get(alpha_2=code.upper())\n",
    "    return c.name if c else code.upper()\n",
    "\n",
    "# load each network under its full country name\n",
    "networks = {}\n",
    "for p in nc_paths:\n",
    "    m = re.search(r'_(\\w\\w)\\.nc$', p.name)\n",
    "    code = m.group(1) if m else p.stem\n",
    "    name = code_to_country(code)\n",
    "    networks[name] = pypsa.Network(str(p))\n",
    "\n",
    "warnings.filterwarnings(\"default\")"
   ]
  },
  {
   "cell_type": "markdown",
   "id": "ad267205",
   "metadata": {},
   "source": [
    "### Data Extraction"
   ]
  },
  {
   "cell_type": "code",
   "execution_count": null,
   "id": "3372145e",
   "metadata": {},
   "outputs": [],
   "source": [
    "def get_core_metrics(n):\n",
    "    stats = n.statistics().loc[\"Link\", \"H2 Electrolysis\"]\n",
    "    return {\n",
    "        \"Installed Capacity\":      n.statistics.installed_capacity('Link').loc[\"H2 Electrolysis\"],\n",
    "        \"Optimal Capacity\":        n.statistics.optimal_capacity('Link').loc[\"H2 Electrolysis\"],\n",
    "        \"Supply\":                  stats[\"Supply\"],\n",
    "        \"Withdrawal\":              stats[\"Withdrawal\"],\n",
    "        \"Energy Balance\":          stats[\"Energy Balance\"],\n",
    "        \"Transmission\":            stats[\"Transmission\"],\n",
    "        \"Capacity Factor\":         stats[\"Capacity Factor\"],\n",
    "        \"Curtailment\":             stats[\"Curtailment\"],\n",
    "        \"Capital Expenditure\":     stats[\"Capital Expenditure\"],\n",
    "        \"Operational Expenditure\": stats[\"Operational Expenditure\"],\n",
    "        \"Revenue\":                 stats[\"Revenue\"],\n",
    "        \"Market Value\":            stats[\"Market Value\"],\n",
    "    }\n",
    "\n",
    "def get_cost_metrics(n):\n",
    "    stats = n.statistics().loc[\"Link\", \"H2 Electrolysis\"]\n",
    "    capex_M = stats[\"Capital Expenditure\"] / 1e6\n",
    "    opex_M  = stats[\"Operational Expenditure\"] / 1e6\n",
    "    supply_TWh = stats[\"Supply\"].sum() / 1e6\n",
    "\n",
    "    # electricity cost in M€\n",
    "    ac = n.buses[n.buses.carrier==\"AC\"].index\n",
    "    price = n.buses_t.marginal_price[ac]\n",
    "    demand = n.links_t.p1[n.links[n.links.carrier==\"H2 Electrolysis\"].index]\n",
    "    demand.columns = price.columns\n",
    "    e_cost_M = ((price * demand).sum().sum() * -1 * n.snapshot_weightings.generators[0]) / 1e6\n",
    "\n",
    "    lcoh = ((capex_M + opex_M + e_cost_M) / (stats[\"Supply\"]/1e6)).round(2)\n",
    "    cost_per_TWh = ((capex_M + opex_M) / supply_TWh).round(2)\n",
    "\n",
    "    return {\n",
    "        \"LCOH (€/MWh)\":  lcoh,\n",
    "        \"Cost (M€/TWh)\": cost_per_TWh,\n",
    "    }\n",
    "\n",
    "def get_h2_export_prices(n):\n",
    "    buses = n.buses[n.buses.index.str.contains(\"H2\", False)].index\n",
    "    return n.buses_t.marginal_price[buses][\"H2 export bus\"]\n",
    "\n",
    "def get_h2_export_quantity(n):\n",
    "    links = n.links[n.links.carrier==\"H2\"].index\n",
    "    qty = n.links_t.p1[links]\n",
    "    cols = [c for c in qty if \"H2 export\" in c]\n",
    "    total = qty[cols].sum(axis=1)\n",
    "    total.name = \"H2 export\"\n",
    "    return total\n",
    "\n",
    "def get_h2_export_revenue(n):\n",
    "    price = get_h2_export_prices(n)\n",
    "    qty   = get_h2_export_quantity(n).reindex(price.index).fillna(0)\n",
    "    return (price * qty).rename(\"Revenue\")\n"
   ]
  },
  {
   "cell_type": "markdown",
   "id": "779ca613",
   "metadata": {},
   "source": [
    "### Metrics Building"
   ]
  },
  {
   "cell_type": "code",
   "execution_count": null,
   "id": "5aaeb256",
   "metadata": {},
   "outputs": [],
   "source": [
    "all_metrics = {}\n",
    "for country, net in networks.items():\n",
    "    core = get_core_metrics(net)\n",
    "    cost = get_cost_metrics(net)\n",
    "    all_metrics[country] = {**core, **cost}"
   ]
  },
  {
   "cell_type": "markdown",
   "id": "d495ba5c",
   "metadata": {},
   "source": [
    "### Group Related Metrics"
   ]
  },
  {
   "cell_type": "code",
   "execution_count": null,
   "id": "e2997962",
   "metadata": {},
   "outputs": [],
   "source": [
    "groups = {\n",
    "    \"Capacity (MW)\": [\"Installed Capacity\", \"Optimal Capacity\"],\n",
    "    \"Flows (MWh)\": [\"Supply\", \"Withdrawal\", \"Energy Balance\", \"Transmission\"],\n",
    "    \"Performance (%)\": [\"Capacity Factor\", \"Curtailment\"],\n",
    "    \"Economics (€)\": [\"Capital Expenditure\", \"Operational Expenditure\", \"Revenue\", \"Market Value\"],\n",
    "    \"Cost Metrics\": [\"LCOH (€/MWh)\", \"Cost (M€/TWh)\"],\n",
    "}"
   ]
  },
  {
   "cell_type": "markdown",
   "id": "0d0dffd9",
   "metadata": {},
   "source": [
    "### Helper function"
   ]
  },
  {
   "cell_type": "code",
   "execution_count": null,
   "id": "f95c2c02",
   "metadata": {},
   "outputs": [],
   "source": [
    "def plot_metrics_group(metrics, items, title):\n",
    "    countries = sorted(metrics)\n",
    "    n, m = len(countries), len(items)\n",
    "    idx = range(n)\n",
    "    w = 0.8 / m\n",
    "\n",
    "    plt.figure(figsize=(max(6, n*0.5), 4))\n",
    "    for i, key in enumerate(items):\n",
    "        vals = [metrics[c][key] for c in countries]\n",
    "        plt.bar([x + i*w for x in idx], vals, w, label=key)\n",
    "\n",
    "    plt.xticks([x + w*(m-1)/2 for x in idx], countries)\n",
    "    plt.title(title)\n",
    "    plt.ylabel(title)\n",
    "    plt.xlabel(\"Country\")\n",
    "    plt.legend(ncol=m, fontsize=\"small\", loc=\"upper center\", bbox_to_anchor=(0.5,-0.15))\n",
    "    plt.tight_layout()\n",
    "    plt.show()"
   ]
  },
  {
   "cell_type": "markdown",
   "id": "245aa0cd",
   "metadata": {},
   "source": [
    "### Bar Charts"
   ]
  },
  {
   "cell_type": "code",
   "execution_count": null,
   "id": "b27e5258",
   "metadata": {},
   "outputs": [],
   "source": [
    "for title, items in groups.items():\n",
    "    plot_metrics_group(all_metrics, items, f\"H2-Electrolysis — {title}\")"
   ]
  },
  {
   "cell_type": "markdown",
   "id": "f3e85c23",
   "metadata": {},
   "source": [
    "### Time-series Plots"
   ]
  },
  {
   "cell_type": "code",
   "execution_count": null,
   "id": "9eee55a6",
   "metadata": {},
   "outputs": [],
   "source": [
    "plt.figure(figsize=(20,6))\n",
    "\n",
    "for name, net in networks.items():\n",
    "    get_h2_export_prices(net).plot(label=name)\n",
    "\n",
    "plt.title(\"Hourly H₂ Export Prices\")\n",
    "plt.xlabel(\"Time\"); plt.ylabel(\"€/MWh\")\n",
    "plt.legend(title=\"Country\"); plt.tight_layout(); plt.show()\n",
    "plt.figure(figsize=(20,6))\n",
    "\n",
    "for name, net in networks.items():\n",
    "    get_h2_export_quantity(net).plot(label=name)\n",
    "\n",
    "plt.title(\"Hourly H₂ Export Quantity\")\n",
    "plt.xlabel(\"Time\"); plt.ylabel(\"MWh\")\n",
    "plt.legend(title=\"Country\"); plt.tight_layout(); plt.show()\n",
    "plt.figure(figsize=(20,6))\n",
    "\n",
    "for name, net in networks.items():\n",
    "    get_h2_export_revenue(net).plot(label=name)\n",
    "    \n",
    "plt.title(\"Hourly H₂ Export Revenue\")\n",
    "plt.xlabel(\"Time\"); plt.ylabel(\"€\")\n",
    "plt.legend(title=\"Country\"); plt.tight_layout(); plt.show()\n"
   ]
  }
 ],
 "metadata": {
  "kernelspec": {
   "display_name": "pypsa-earth",
   "language": "python",
   "name": "python3"
  },
  "language_info": {
   "codemirror_mode": {
    "name": "ipython",
    "version": 3
   },
   "file_extension": ".py",
   "mimetype": "text/x-python",
   "name": "python",
   "nbconvert_exporter": "python",
   "pygments_lexer": "ipython3",
   "version": "3.10.15"
  }
 },
 "nbformat": 4,
 "nbformat_minor": 5
}
